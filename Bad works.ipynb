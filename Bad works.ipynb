{
 "cells": [
  {
   "cell_type": "code",
   "execution_count": 118,
   "metadata": {},
   "outputs": [],
   "source": [
    "import numpy as np\n",
    "import pandas as pd\n",
    "import matplotlib.pyplot as plt\n",
    "import seaborn as sns\n",
    "import os\n",
    "import cv2\n",
    "import random\n",
    "from tqdm import tqdm\n"
   ]
  },
  {
   "attachments": {},
   "cell_type": "markdown",
   "metadata": {},
   "source": [
    "## Data preprocess"
   ]
  },
  {
   "cell_type": "code",
   "execution_count": 119,
   "metadata": {},
   "outputs": [
    {
     "data": {
      "text/html": [
       "<div>\n",
       "<style scoped>\n",
       "    .dataframe tbody tr th:only-of-type {\n",
       "        vertical-align: middle;\n",
       "    }\n",
       "\n",
       "    .dataframe tbody tr th {\n",
       "        vertical-align: top;\n",
       "    }\n",
       "\n",
       "    .dataframe thead th {\n",
       "        text-align: right;\n",
       "    }\n",
       "</style>\n",
       "<table border=\"1\" class=\"dataframe\">\n",
       "  <thead>\n",
       "    <tr style=\"text-align: right;\">\n",
       "      <th></th>\n",
       "      <th>id</th>\n",
       "      <th>product_code</th>\n",
       "      <th>loading</th>\n",
       "      <th>attribute_0</th>\n",
       "      <th>attribute_1</th>\n",
       "      <th>attribute_2</th>\n",
       "      <th>attribute_3</th>\n",
       "      <th>measurement_0</th>\n",
       "      <th>measurement_1</th>\n",
       "      <th>measurement_2</th>\n",
       "      <th>...</th>\n",
       "      <th>measurement_9</th>\n",
       "      <th>measurement_10</th>\n",
       "      <th>measurement_11</th>\n",
       "      <th>measurement_12</th>\n",
       "      <th>measurement_13</th>\n",
       "      <th>measurement_14</th>\n",
       "      <th>measurement_15</th>\n",
       "      <th>measurement_16</th>\n",
       "      <th>measurement_17</th>\n",
       "      <th>failure</th>\n",
       "    </tr>\n",
       "  </thead>\n",
       "  <tbody>\n",
       "    <tr>\n",
       "      <th>0</th>\n",
       "      <td>0</td>\n",
       "      <td>A</td>\n",
       "      <td>80.10</td>\n",
       "      <td>material_7</td>\n",
       "      <td>material_8</td>\n",
       "      <td>9</td>\n",
       "      <td>5</td>\n",
       "      <td>7</td>\n",
       "      <td>8</td>\n",
       "      <td>4</td>\n",
       "      <td>...</td>\n",
       "      <td>10.672</td>\n",
       "      <td>15.859</td>\n",
       "      <td>17.594</td>\n",
       "      <td>15.193</td>\n",
       "      <td>15.029</td>\n",
       "      <td>NaN</td>\n",
       "      <td>13.034</td>\n",
       "      <td>14.684</td>\n",
       "      <td>764.100</td>\n",
       "      <td>0</td>\n",
       "    </tr>\n",
       "    <tr>\n",
       "      <th>1</th>\n",
       "      <td>1</td>\n",
       "      <td>A</td>\n",
       "      <td>84.89</td>\n",
       "      <td>material_7</td>\n",
       "      <td>material_8</td>\n",
       "      <td>9</td>\n",
       "      <td>5</td>\n",
       "      <td>14</td>\n",
       "      <td>3</td>\n",
       "      <td>3</td>\n",
       "      <td>...</td>\n",
       "      <td>12.448</td>\n",
       "      <td>17.947</td>\n",
       "      <td>17.915</td>\n",
       "      <td>11.755</td>\n",
       "      <td>14.732</td>\n",
       "      <td>15.425</td>\n",
       "      <td>14.395</td>\n",
       "      <td>15.631</td>\n",
       "      <td>682.057</td>\n",
       "      <td>0</td>\n",
       "    </tr>\n",
       "    <tr>\n",
       "      <th>2</th>\n",
       "      <td>2</td>\n",
       "      <td>A</td>\n",
       "      <td>82.43</td>\n",
       "      <td>material_7</td>\n",
       "      <td>material_8</td>\n",
       "      <td>9</td>\n",
       "      <td>5</td>\n",
       "      <td>12</td>\n",
       "      <td>1</td>\n",
       "      <td>5</td>\n",
       "      <td>...</td>\n",
       "      <td>12.715</td>\n",
       "      <td>15.607</td>\n",
       "      <td>NaN</td>\n",
       "      <td>13.798</td>\n",
       "      <td>16.711</td>\n",
       "      <td>18.631</td>\n",
       "      <td>14.094</td>\n",
       "      <td>17.946</td>\n",
       "      <td>663.376</td>\n",
       "      <td>0</td>\n",
       "    </tr>\n",
       "    <tr>\n",
       "      <th>3</th>\n",
       "      <td>3</td>\n",
       "      <td>A</td>\n",
       "      <td>101.07</td>\n",
       "      <td>material_7</td>\n",
       "      <td>material_8</td>\n",
       "      <td>9</td>\n",
       "      <td>5</td>\n",
       "      <td>13</td>\n",
       "      <td>2</td>\n",
       "      <td>6</td>\n",
       "      <td>...</td>\n",
       "      <td>12.471</td>\n",
       "      <td>16.346</td>\n",
       "      <td>18.377</td>\n",
       "      <td>10.020</td>\n",
       "      <td>15.250</td>\n",
       "      <td>15.562</td>\n",
       "      <td>16.154</td>\n",
       "      <td>17.172</td>\n",
       "      <td>826.282</td>\n",
       "      <td>0</td>\n",
       "    </tr>\n",
       "    <tr>\n",
       "      <th>4</th>\n",
       "      <td>4</td>\n",
       "      <td>A</td>\n",
       "      <td>188.06</td>\n",
       "      <td>material_7</td>\n",
       "      <td>material_8</td>\n",
       "      <td>9</td>\n",
       "      <td>5</td>\n",
       "      <td>9</td>\n",
       "      <td>2</td>\n",
       "      <td>8</td>\n",
       "      <td>...</td>\n",
       "      <td>10.337</td>\n",
       "      <td>17.082</td>\n",
       "      <td>19.932</td>\n",
       "      <td>12.428</td>\n",
       "      <td>16.182</td>\n",
       "      <td>12.760</td>\n",
       "      <td>13.153</td>\n",
       "      <td>16.412</td>\n",
       "      <td>579.885</td>\n",
       "      <td>0</td>\n",
       "    </tr>\n",
       "  </tbody>\n",
       "</table>\n",
       "<p>5 rows × 26 columns</p>\n",
       "</div>"
      ],
      "text/plain": [
       "   id product_code  loading attribute_0 attribute_1  attribute_2  attribute_3  \\\n",
       "0   0            A    80.10  material_7  material_8            9            5   \n",
       "1   1            A    84.89  material_7  material_8            9            5   \n",
       "2   2            A    82.43  material_7  material_8            9            5   \n",
       "3   3            A   101.07  material_7  material_8            9            5   \n",
       "4   4            A   188.06  material_7  material_8            9            5   \n",
       "\n",
       "   measurement_0  measurement_1  measurement_2  ...  measurement_9  \\\n",
       "0              7              8              4  ...         10.672   \n",
       "1             14              3              3  ...         12.448   \n",
       "2             12              1              5  ...         12.715   \n",
       "3             13              2              6  ...         12.471   \n",
       "4              9              2              8  ...         10.337   \n",
       "\n",
       "   measurement_10  measurement_11  measurement_12  measurement_13  \\\n",
       "0          15.859          17.594          15.193          15.029   \n",
       "1          17.947          17.915          11.755          14.732   \n",
       "2          15.607             NaN          13.798          16.711   \n",
       "3          16.346          18.377          10.020          15.250   \n",
       "4          17.082          19.932          12.428          16.182   \n",
       "\n",
       "   measurement_14  measurement_15  measurement_16  measurement_17  failure  \n",
       "0             NaN          13.034          14.684         764.100        0  \n",
       "1          15.425          14.395          15.631         682.057        0  \n",
       "2          18.631          14.094          17.946         663.376        0  \n",
       "3          15.562          16.154          17.172         826.282        0  \n",
       "4          12.760          13.153          16.412         579.885        0  \n",
       "\n",
       "[5 rows x 26 columns]"
      ]
     },
     "execution_count": 119,
     "metadata": {},
     "output_type": "execute_result"
    }
   ],
   "source": [
    "TRAIN_PATH = './kaggle/input/tabular-playground-series-aug-2022/train.csv'\n",
    "TEST_PATH = './kaggle/input/tabular-playground-series-aug-2022/test.csv'\n",
    "\n",
    "df_train = pd.read_csv(TRAIN_PATH)\n",
    "df_test = pd.read_csv(TEST_PATH)\n",
    "\n",
    "df_train.head()\n"
   ]
  },
  {
   "cell_type": "code",
   "execution_count": 120,
   "metadata": {},
   "outputs": [
    {
     "name": "stdout",
     "output_type": "stream",
     "text": [
      "material_7    21320\n",
      "material_5     5250\n",
      "Name: attribute_0, dtype: int64\n"
     ]
    }
   ],
   "source": [
    "print(df_train['attribute_0'].value_counts())\n",
    "df_train['attribute_0'] = df_train['attribute_0'].map({'material_5': 5, 'material_7': 7})\n"
   ]
  },
  {
   "cell_type": "code",
   "execution_count": 121,
   "metadata": {},
   "outputs": [
    {
     "name": "stdout",
     "output_type": "stream",
     "text": [
      "material_8    10865\n",
      "material_5    10362\n",
      "material_6     5343\n",
      "Name: attribute_1, dtype: int64\n"
     ]
    }
   ],
   "source": [
    "print(df_train['attribute_1'].value_counts())\n",
    "df_train['attribute_1'] = df_train['attribute_1'].map({'material_5': 5, 'material_6': 6, 'material_8': 8})\n"
   ]
  },
  {
   "cell_type": "code",
   "execution_count": 122,
   "metadata": {},
   "outputs": [
    {
     "name": "stdout",
     "output_type": "stream",
     "text": [
      "material_5    10529\n",
      "material_7    10246\n",
      "Name: attribute_0, dtype: int64\n"
     ]
    }
   ],
   "source": [
    "print(df_test['attribute_0'].value_counts())\n",
    "df_test['attribute_0'] = df_test['attribute_0'].map({'material_5': 5, 'material_7': 7})\n"
   ]
  },
  {
   "cell_type": "code",
   "execution_count": 123,
   "metadata": {},
   "outputs": [
    {
     "name": "stdout",
     "output_type": "stream",
     "text": [
      "material_6    10529\n",
      "material_5     5228\n",
      "material_7     5018\n",
      "Name: attribute_1, dtype: int64\n"
     ]
    }
   ],
   "source": [
    "print(df_test['attribute_1'].value_counts())\n",
    "df_test['attribute_1'] = df_test['attribute_1'].map({'material_5': 5, 'material_6': 6, 'material_7': 7})\n"
   ]
  },
  {
   "cell_type": "code",
   "execution_count": 124,
   "metadata": {},
   "outputs": [
    {
     "name": "stdout",
     "output_type": "stream",
     "text": [
      "loading has 250 null values\n",
      "measurement_3 has 381 null values\n",
      "measurement_4 has 538 null values\n",
      "measurement_5 has 676 null values\n",
      "measurement_6 has 796 null values\n",
      "measurement_7 has 937 null values\n",
      "measurement_8 has 1048 null values\n",
      "measurement_9 has 1227 null values\n",
      "measurement_10 has 1300 null values\n",
      "measurement_11 has 1468 null values\n",
      "measurement_12 has 1601 null values\n",
      "measurement_13 has 1774 null values\n",
      "measurement_14 has 1874 null values\n",
      "measurement_15 has 2009 null values\n",
      "measurement_16 has 2110 null values\n",
      "measurement_17 has 2284 null values\n"
     ]
    }
   ],
   "source": [
    "for col in df_train.columns:\n",
    "    null_count = df_train[col].isnull().sum()\n",
    "    if null_count > 0:\n",
    "        print(f'{col} has {null_count} null values')\n"
   ]
  },
  {
   "cell_type": "code",
   "execution_count": 125,
   "metadata": {},
   "outputs": [
    {
     "data": {
      "text/html": [
       "<div>\n",
       "<style scoped>\n",
       "    .dataframe tbody tr th:only-of-type {\n",
       "        vertical-align: middle;\n",
       "    }\n",
       "\n",
       "    .dataframe tbody tr th {\n",
       "        vertical-align: top;\n",
       "    }\n",
       "\n",
       "    .dataframe thead th {\n",
       "        text-align: right;\n",
       "    }\n",
       "</style>\n",
       "<table border=\"1\" class=\"dataframe\">\n",
       "  <thead>\n",
       "    <tr style=\"text-align: right;\">\n",
       "      <th></th>\n",
       "      <th>id</th>\n",
       "      <th>product_code</th>\n",
       "      <th>loading</th>\n",
       "      <th>attribute_0</th>\n",
       "      <th>attribute_1</th>\n",
       "      <th>attribute_2</th>\n",
       "      <th>attribute_3</th>\n",
       "      <th>measurement_0</th>\n",
       "      <th>measurement_1</th>\n",
       "      <th>measurement_2</th>\n",
       "      <th>...</th>\n",
       "      <th>measurement_9</th>\n",
       "      <th>measurement_10</th>\n",
       "      <th>measurement_11</th>\n",
       "      <th>measurement_12</th>\n",
       "      <th>measurement_13</th>\n",
       "      <th>measurement_14</th>\n",
       "      <th>measurement_15</th>\n",
       "      <th>measurement_16</th>\n",
       "      <th>measurement_17</th>\n",
       "      <th>failure</th>\n",
       "    </tr>\n",
       "  </thead>\n",
       "  <tbody>\n",
       "    <tr>\n",
       "      <th>0</th>\n",
       "      <td>0</td>\n",
       "      <td>A</td>\n",
       "      <td>80.10</td>\n",
       "      <td>7</td>\n",
       "      <td>8</td>\n",
       "      <td>9</td>\n",
       "      <td>5</td>\n",
       "      <td>0.155556</td>\n",
       "      <td>0.177778</td>\n",
       "      <td>0.088889</td>\n",
       "      <td>...</td>\n",
       "      <td>0.237156</td>\n",
       "      <td>0.352422</td>\n",
       "      <td>0.390978</td>\n",
       "      <td>0.337622</td>\n",
       "      <td>0.333978</td>\n",
       "      <td>0.356632</td>\n",
       "      <td>0.289644</td>\n",
       "      <td>0.326311</td>\n",
       "      <td>16.980000</td>\n",
       "      <td>0</td>\n",
       "    </tr>\n",
       "    <tr>\n",
       "      <th>1</th>\n",
       "      <td>1</td>\n",
       "      <td>A</td>\n",
       "      <td>84.89</td>\n",
       "      <td>7</td>\n",
       "      <td>8</td>\n",
       "      <td>9</td>\n",
       "      <td>5</td>\n",
       "      <td>0.311111</td>\n",
       "      <td>0.066667</td>\n",
       "      <td>0.066667</td>\n",
       "      <td>...</td>\n",
       "      <td>0.276622</td>\n",
       "      <td>0.398822</td>\n",
       "      <td>0.398111</td>\n",
       "      <td>0.261222</td>\n",
       "      <td>0.327378</td>\n",
       "      <td>0.342778</td>\n",
       "      <td>0.319889</td>\n",
       "      <td>0.347356</td>\n",
       "      <td>15.156822</td>\n",
       "      <td>0</td>\n",
       "    </tr>\n",
       "    <tr>\n",
       "      <th>2</th>\n",
       "      <td>2</td>\n",
       "      <td>A</td>\n",
       "      <td>82.43</td>\n",
       "      <td>7</td>\n",
       "      <td>8</td>\n",
       "      <td>9</td>\n",
       "      <td>5</td>\n",
       "      <td>0.266667</td>\n",
       "      <td>0.022222</td>\n",
       "      <td>0.111111</td>\n",
       "      <td>...</td>\n",
       "      <td>0.282556</td>\n",
       "      <td>0.346822</td>\n",
       "      <td>0.426046</td>\n",
       "      <td>0.306622</td>\n",
       "      <td>0.371356</td>\n",
       "      <td>0.414022</td>\n",
       "      <td>0.313200</td>\n",
       "      <td>0.398800</td>\n",
       "      <td>14.741689</td>\n",
       "      <td>0</td>\n",
       "    </tr>\n",
       "    <tr>\n",
       "      <th>3</th>\n",
       "      <td>3</td>\n",
       "      <td>A</td>\n",
       "      <td>101.07</td>\n",
       "      <td>7</td>\n",
       "      <td>8</td>\n",
       "      <td>9</td>\n",
       "      <td>5</td>\n",
       "      <td>0.288889</td>\n",
       "      <td>0.044444</td>\n",
       "      <td>0.133333</td>\n",
       "      <td>...</td>\n",
       "      <td>0.277133</td>\n",
       "      <td>0.363244</td>\n",
       "      <td>0.408378</td>\n",
       "      <td>0.222667</td>\n",
       "      <td>0.338889</td>\n",
       "      <td>0.345822</td>\n",
       "      <td>0.358978</td>\n",
       "      <td>0.381600</td>\n",
       "      <td>18.361822</td>\n",
       "      <td>0</td>\n",
       "    </tr>\n",
       "    <tr>\n",
       "      <th>4</th>\n",
       "      <td>4</td>\n",
       "      <td>A</td>\n",
       "      <td>188.06</td>\n",
       "      <td>7</td>\n",
       "      <td>8</td>\n",
       "      <td>9</td>\n",
       "      <td>5</td>\n",
       "      <td>0.200000</td>\n",
       "      <td>0.044444</td>\n",
       "      <td>0.177778</td>\n",
       "      <td>...</td>\n",
       "      <td>0.229711</td>\n",
       "      <td>0.379600</td>\n",
       "      <td>0.442933</td>\n",
       "      <td>0.276178</td>\n",
       "      <td>0.359600</td>\n",
       "      <td>0.283556</td>\n",
       "      <td>0.292289</td>\n",
       "      <td>0.364711</td>\n",
       "      <td>12.886333</td>\n",
       "      <td>0</td>\n",
       "    </tr>\n",
       "  </tbody>\n",
       "</table>\n",
       "<p>5 rows × 26 columns</p>\n",
       "</div>"
      ],
      "text/plain": [
       "   id product_code  loading  attribute_0  attribute_1  attribute_2  \\\n",
       "0   0            A    80.10            7            8            9   \n",
       "1   1            A    84.89            7            8            9   \n",
       "2   2            A    82.43            7            8            9   \n",
       "3   3            A   101.07            7            8            9   \n",
       "4   4            A   188.06            7            8            9   \n",
       "\n",
       "   attribute_3  measurement_0  measurement_1  measurement_2  ...  \\\n",
       "0            5       0.155556       0.177778       0.088889  ...   \n",
       "1            5       0.311111       0.066667       0.066667  ...   \n",
       "2            5       0.266667       0.022222       0.111111  ...   \n",
       "3            5       0.288889       0.044444       0.133333  ...   \n",
       "4            5       0.200000       0.044444       0.177778  ...   \n",
       "\n",
       "   measurement_9  measurement_10  measurement_11  measurement_12  \\\n",
       "0       0.237156        0.352422        0.390978        0.337622   \n",
       "1       0.276622        0.398822        0.398111        0.261222   \n",
       "2       0.282556        0.346822        0.426046        0.306622   \n",
       "3       0.277133        0.363244        0.408378        0.222667   \n",
       "4       0.229711        0.379600        0.442933        0.276178   \n",
       "\n",
       "   measurement_13  measurement_14  measurement_15  measurement_16  \\\n",
       "0        0.333978        0.356632        0.289644        0.326311   \n",
       "1        0.327378        0.342778        0.319889        0.347356   \n",
       "2        0.371356        0.414022        0.313200        0.398800   \n",
       "3        0.338889        0.345822        0.358978        0.381600   \n",
       "4        0.359600        0.283556        0.292289        0.364711   \n",
       "\n",
       "   measurement_17  failure  \n",
       "0       16.980000        0  \n",
       "1       15.156822        0  \n",
       "2       14.741689        0  \n",
       "3       18.361822        0  \n",
       "4       12.886333        0  \n",
       "\n",
       "[5 rows x 26 columns]"
      ]
     },
     "execution_count": 125,
     "metadata": {},
     "output_type": "execute_result"
    }
   ],
   "source": [
    "# combine attribute_2 and attribute_3\n",
    "df_train['Area'] = df_train['attribute_2'] * df_train['attribute_3']\n",
    "df_test['Area'] = df_test['attribute_2'] * df_test['attribute_3']\n",
    "\n",
    "for col in df_train.columns:\n",
    "    if col.startswith(\"measurement\"):\n",
    "        df_train[col] = df_train[col].fillna(df_train[col].mean())\n",
    "        df_train[col] = df_train[col] / df_train['Area']\n",
    "        df_test[col] = df_test[col].fillna(df_test[col].mean())\n",
    "        df_test[col] = df_test[col] / df_test['Area']\n",
    "\n",
    "df_train = df_train.drop(['Area'], axis=1)\n",
    "df_test = df_test.drop(['Area'], axis=1)\n",
    "\n",
    "original_train = df_train.copy()\n",
    "original_test = df_test.copy()\n",
    "\n",
    "df_train.head()\n"
   ]
  },
  {
   "cell_type": "code",
   "execution_count": 126,
   "metadata": {},
   "outputs": [
    {
     "data": {
      "text/html": [
       "<div>\n",
       "<style scoped>\n",
       "    .dataframe tbody tr th:only-of-type {\n",
       "        vertical-align: middle;\n",
       "    }\n",
       "\n",
       "    .dataframe tbody tr th {\n",
       "        vertical-align: top;\n",
       "    }\n",
       "\n",
       "    .dataframe thead th {\n",
       "        text-align: right;\n",
       "    }\n",
       "</style>\n",
       "<table border=\"1\" class=\"dataframe\">\n",
       "  <thead>\n",
       "    <tr style=\"text-align: right;\">\n",
       "      <th></th>\n",
       "      <th>id</th>\n",
       "      <th>product_code</th>\n",
       "      <th>loading</th>\n",
       "      <th>attribute_0</th>\n",
       "      <th>attribute_1</th>\n",
       "      <th>attribute_2</th>\n",
       "      <th>attribute_3</th>\n",
       "      <th>measurement_0</th>\n",
       "      <th>measurement_1</th>\n",
       "      <th>measurement_2</th>\n",
       "      <th>...</th>\n",
       "      <th>measurement_9</th>\n",
       "      <th>measurement_10</th>\n",
       "      <th>measurement_11</th>\n",
       "      <th>measurement_12</th>\n",
       "      <th>measurement_13</th>\n",
       "      <th>measurement_14</th>\n",
       "      <th>measurement_15</th>\n",
       "      <th>measurement_16</th>\n",
       "      <th>measurement_17</th>\n",
       "      <th>failure</th>\n",
       "    </tr>\n",
       "  </thead>\n",
       "  <tbody>\n",
       "    <tr>\n",
       "      <th>0</th>\n",
       "      <td>0</td>\n",
       "      <td>A</td>\n",
       "      <td>-1.222808</td>\n",
       "      <td>7</td>\n",
       "      <td>8</td>\n",
       "      <td>9</td>\n",
       "      <td>5</td>\n",
       "      <td>-0.100033</td>\n",
       "      <td>-0.025848</td>\n",
       "      <td>-0.603036</td>\n",
       "      <td>...</td>\n",
       "      <td>-0.231855</td>\n",
       "      <td>-0.003948</td>\n",
       "      <td>-0.316651</td>\n",
       "      <td>1.421670</td>\n",
       "      <td>-0.107972</td>\n",
       "      <td>0.075125</td>\n",
       "      <td>-0.519805</td>\n",
       "      <td>-0.410888</td>\n",
       "      <td>0.411850</td>\n",
       "      <td>0</td>\n",
       "    </tr>\n",
       "    <tr>\n",
       "      <th>1</th>\n",
       "      <td>1</td>\n",
       "      <td>A</td>\n",
       "      <td>-1.100082</td>\n",
       "      <td>7</td>\n",
       "      <td>8</td>\n",
       "      <td>9</td>\n",
       "      <td>5</td>\n",
       "      <td>1.408407</td>\n",
       "      <td>-1.117482</td>\n",
       "      <td>-0.888028</td>\n",
       "      <td>...</td>\n",
       "      <td>0.496427</td>\n",
       "      <td>0.580318</td>\n",
       "      <td>-0.234210</td>\n",
       "      <td>0.105886</td>\n",
       "      <td>-0.201951</td>\n",
       "      <td>-0.102616</td>\n",
       "      <td>-0.103418</td>\n",
       "      <td>-0.152464</td>\n",
       "      <td>-0.039927</td>\n",
       "      <td>0</td>\n",
       "    </tr>\n",
       "    <tr>\n",
       "      <th>2</th>\n",
       "      <td>2</td>\n",
       "      <td>A</td>\n",
       "      <td>-1.163111</td>\n",
       "      <td>7</td>\n",
       "      <td>8</td>\n",
       "      <td>9</td>\n",
       "      <td>5</td>\n",
       "      <td>0.977424</td>\n",
       "      <td>-1.554135</td>\n",
       "      <td>-0.318044</td>\n",
       "      <td>...</td>\n",
       "      <td>0.605915</td>\n",
       "      <td>-0.074463</td>\n",
       "      <td>0.088644</td>\n",
       "      <td>0.887779</td>\n",
       "      <td>0.424255</td>\n",
       "      <td>0.811399</td>\n",
       "      <td>-0.195507</td>\n",
       "      <td>0.479268</td>\n",
       "      <td>-0.142795</td>\n",
       "      <td>0</td>\n",
       "    </tr>\n",
       "    <tr>\n",
       "      <th>3</th>\n",
       "      <td>3</td>\n",
       "      <td>A</td>\n",
       "      <td>-0.685530</td>\n",
       "      <td>7</td>\n",
       "      <td>8</td>\n",
       "      <td>9</td>\n",
       "      <td>5</td>\n",
       "      <td>1.192916</td>\n",
       "      <td>-1.335809</td>\n",
       "      <td>-0.033051</td>\n",
       "      <td>...</td>\n",
       "      <td>0.505858</td>\n",
       "      <td>0.132325</td>\n",
       "      <td>-0.115555</td>\n",
       "      <td>-0.558129</td>\n",
       "      <td>-0.038042</td>\n",
       "      <td>-0.063558</td>\n",
       "      <td>0.434734</td>\n",
       "      <td>0.268054</td>\n",
       "      <td>0.754260</td>\n",
       "      <td>0</td>\n",
       "    </tr>\n",
       "    <tr>\n",
       "      <th>4</th>\n",
       "      <td>4</td>\n",
       "      <td>A</td>\n",
       "      <td>1.543268</td>\n",
       "      <td>7</td>\n",
       "      <td>8</td>\n",
       "      <td>9</td>\n",
       "      <td>5</td>\n",
       "      <td>0.330950</td>\n",
       "      <td>-1.335809</td>\n",
       "      <td>0.536933</td>\n",
       "      <td>...</td>\n",
       "      <td>-0.369227</td>\n",
       "      <td>0.338273</td>\n",
       "      <td>0.283811</td>\n",
       "      <td>0.363455</td>\n",
       "      <td>0.256866</td>\n",
       "      <td>-0.862394</td>\n",
       "      <td>-0.483398</td>\n",
       "      <td>0.060660</td>\n",
       "      <td>-0.602545</td>\n",
       "      <td>0</td>\n",
       "    </tr>\n",
       "  </tbody>\n",
       "</table>\n",
       "<p>5 rows × 26 columns</p>\n",
       "</div>"
      ],
      "text/plain": [
       "   id product_code   loading  attribute_0  attribute_1  attribute_2  \\\n",
       "0   0            A -1.222808            7            8            9   \n",
       "1   1            A -1.100082            7            8            9   \n",
       "2   2            A -1.163111            7            8            9   \n",
       "3   3            A -0.685530            7            8            9   \n",
       "4   4            A  1.543268            7            8            9   \n",
       "\n",
       "   attribute_3  measurement_0  measurement_1  measurement_2  ...  \\\n",
       "0            5      -0.100033      -0.025848      -0.603036  ...   \n",
       "1            5       1.408407      -1.117482      -0.888028  ...   \n",
       "2            5       0.977424      -1.554135      -0.318044  ...   \n",
       "3            5       1.192916      -1.335809      -0.033051  ...   \n",
       "4            5       0.330950      -1.335809       0.536933  ...   \n",
       "\n",
       "   measurement_9  measurement_10  measurement_11  measurement_12  \\\n",
       "0      -0.231855       -0.003948       -0.316651        1.421670   \n",
       "1       0.496427        0.580318       -0.234210        0.105886   \n",
       "2       0.605915       -0.074463        0.088644        0.887779   \n",
       "3       0.505858        0.132325       -0.115555       -0.558129   \n",
       "4      -0.369227        0.338273        0.283811        0.363455   \n",
       "\n",
       "   measurement_13  measurement_14  measurement_15  measurement_16  \\\n",
       "0       -0.107972        0.075125       -0.519805       -0.410888   \n",
       "1       -0.201951       -0.102616       -0.103418       -0.152464   \n",
       "2        0.424255        0.811399       -0.195507        0.479268   \n",
       "3       -0.038042       -0.063558        0.434734        0.268054   \n",
       "4        0.256866       -0.862394       -0.483398        0.060660   \n",
       "\n",
       "   measurement_17  failure  \n",
       "0        0.411850        0  \n",
       "1       -0.039927        0  \n",
       "2       -0.142795        0  \n",
       "3        0.754260        0  \n",
       "4       -0.602545        0  \n",
       "\n",
       "[5 rows x 26 columns]"
      ]
     },
     "execution_count": 126,
     "metadata": {},
     "output_type": "execute_result"
    }
   ],
   "source": [
    "skip_cols = ['id', 'product_code', 'failure']\n",
    "for col in df_train.columns:\n",
    "    # normalize the data (note that I normalize test set with train set's mean and std)\n",
    "    if col not in skip_cols and not col.startswith('attribute'):\n",
    "        df_test[col] = (df_test[col] - df_train[col].mean()) / df_train[col].std()\n",
    "        df_train[col] = (df_train[col] - df_train[col].mean()) / df_train[col].std()\n",
    "        # replace NaN with 0\n",
    "        df_train[col].fillna(0, inplace=True)\n",
    "        df_test[col].fillna(0, inplace=True)\n",
    "        original_train[col].fillna(0, inplace=True)\n",
    "        original_test[col].fillna(0, inplace=True)\n",
    "\n",
    "df_train.head()\n"
   ]
  },
  {
   "cell_type": "code",
   "execution_count": 127,
   "metadata": {},
   "outputs": [
    {
     "name": "stdout",
     "output_type": "stream",
     "text": [
      "train_x shape: (26570, 21)\n",
      "test_x shape: (20775, 21)\n"
     ]
    }
   ],
   "source": [
    "train_x = df_train.drop(['id', 'product_code', 'attribute_2', 'attribute_3', 'failure'], axis=1).to_numpy()\n",
    "train_y = df_train['failure'].to_numpy()\n",
    "\n",
    "\n",
    "test_x = df_test.drop(['id', 'product_code', 'attribute_2', 'attribute_3'], axis=1).to_numpy()\n",
    "\n",
    "original_train_x = original_train.drop(['id', 'product_code', 'attribute_2', 'attribute_3', 'failure'], axis=1).to_numpy()\n",
    "original_train_y = original_train['failure'].to_numpy()\n",
    "\n",
    "original_test_x = original_test.drop(['id', 'product_code', 'attribute_2', 'attribute_3'], axis=1).to_numpy()\n",
    "\n",
    "print(\"train_x shape:\", train_x.shape)\n",
    "print(\"test_x shape:\", test_x.shape)\n"
   ]
  },
  {
   "cell_type": "code",
   "execution_count": 128,
   "metadata": {},
   "outputs": [
    {
     "name": "stdout",
     "output_type": "stream",
     "text": [
      "20921 20921\n",
      "new_train_x shape: (41842, 12)\n",
      "new_test_x shape: (20775, 12)\n"
     ]
    }
   ],
   "source": [
    "from sklearn.decomposition import PCA\n",
    "from sklearn.preprocessing import PowerTransformer\n",
    "import pickle\n",
    "\n",
    "pca = PCA(n_components=0.95)\n",
    "new_train_x = pca.fit_transform(train_x)\n",
    "new_test_x = pca.transform(test_x)\n",
    "\n",
    "\n",
    "from imblearn.over_sampling import SMOTE \n",
    "smt = SMOTE()\n",
    "new_train_x, train_y = smt.fit_resample(new_train_x, train_y)\n",
    "original_train_x, original_train_y = smt.fit_resample(original_train_x, original_train_y)\n",
    "\n",
    "print(sum(train_y == 0), sum(train_y == 1))\n",
    "\n",
    "\n",
    "print(\"new_train_x shape:\", new_train_x.shape)\n",
    "print(\"new_test_x shape:\", new_test_x.shape)\n",
    "\n",
    "pickle.dump(pca, open('pt.pkl', 'wb'))\n",
    "pickle.dump(new_test_x, open('new_test_x.pkl', 'wb'))\n",
    "pickle.dump(original_test_x, open('original_test_x.pkl', 'wb'))\n"
   ]
  },
  {
   "attachments": {},
   "cell_type": "markdown",
   "metadata": {},
   "source": [
    "## Training"
   ]
  },
  {
   "attachments": {},
   "cell_type": "markdown",
   "metadata": {},
   "source": [
    "### Logistic Regression"
   ]
  },
  {
   "cell_type": "code",
   "execution_count": 129,
   "metadata": {},
   "outputs": [
    {
     "name": "stdout",
     "output_type": "stream",
     "text": [
      "3761\n",
      "ROC Accuracy: 0.56967795585986\n"
     ]
    },
    {
     "data": {
      "text/plain": [
       "['model.pkl']"
      ]
     },
     "execution_count": 129,
     "metadata": {},
     "output_type": "execute_result"
    }
   ],
   "source": [
    "from sklearn import linear_model\n",
    "from sklearn.model_selection import train_test_split\n",
    "from sklearn.metrics import accuracy_score\n",
    "from sklearn.metrics import roc_auc_score\n",
    "import joblib\n",
    "\n",
    "x_train, x_val, y_train, y_val = train_test_split(new_train_x, train_y, test_size=0.2)\n",
    "\n",
    "clf = linear_model.LogisticRegression(max_iter=5000, C=1e-3, solver='saga', penalty='elasticnet', l1_ratio= 1e-3, tol=1e-2, class_weight='balanced')\n",
    "clf.fit(x_train, y_train)\n",
    "\n",
    "y_pred = clf.predict(x_val)\n",
    "print(sum(y_pred))\n",
    "\n",
    "ruc_score = roc_auc_score(y_val, y_pred)\n",
    "print(\"ROC Accuracy:\", roc_auc_score(y_val, y_pred))\n",
    "\n",
    "joblib.dump(clf, 'model.pkl')\n"
   ]
  },
  {
   "cell_type": "code",
   "execution_count": 130,
   "metadata": {},
   "outputs": [
    {
     "data": {
      "text/plain": [
       "Text(0.5, 1.0, 'Confusion Matrix')"
      ]
     },
     "execution_count": 130,
     "metadata": {},
     "output_type": "execute_result"
    },
    {
     "data": {
      "image/png": "[encoded data removed]",
      "text/plain": [
       "<Figure size 640x480 with 2 Axes>"
      ]
     },
     "metadata": {},
     "output_type": "display_data"
    }
   ],
   "source": [
    "from sklearn import metrics\n",
    "disp = metrics.ConfusionMatrixDisplay.from_predictions(y_val, y_pred, labels = (1,0), normalize = None, cmap='Blues')\n",
    "disp.ax_.grid(False)\n",
    "disp.ax_.set_title('Confusion Matrix')"
   ]
  },
  {
   "attachments": {},
   "cell_type": "markdown",
   "metadata": {},
   "source": [
    "### AdaBoost"
   ]
  },
  {
   "cell_type": "code",
   "execution_count": 131,
   "metadata": {},
   "outputs": [
    {
     "name": "stdout",
     "output_type": "stream",
     "text": [
      "4321\n",
      "ROC Accuracy: 0.6260469363768342\n"
     ]
    },
    {
     "data": {
      "text/plain": [
       "['model.pkl']"
      ]
     },
     "execution_count": 131,
     "metadata": {},
     "output_type": "execute_result"
    }
   ],
   "source": [
    "from sklearn import ensemble\n",
    "from sklearn.model_selection import train_test_split\n",
    "from sklearn.metrics import accuracy_score\n",
    "from sklearn.metrics import roc_auc_score\n",
    "\n",
    "x_train, x_val, y_train, y_val = train_test_split(original_train_x, original_train_y, test_size=0.2)\n",
    "\n",
    "clf = ensemble.AdaBoostClassifier(n_estimators=300, learning_rate=0.1)\n",
    "clf.fit(x_train, y_train)\n",
    "\n",
    "y_pred = clf.predict(x_val)\n",
    "print(sum(y_pred))\n",
    "\n",
    "ruc_score = roc_auc_score(y_val, y_pred)\n",
    "print(\"ROC Accuracy:\", roc_auc_score(y_val, y_pred))\n",
    "\n",
    "joblib.dump(clf, 'model.pkl')\n"
   ]
  },
  {
   "cell_type": "code",
   "execution_count": 132,
   "metadata": {},
   "outputs": [
    {
     "data": {
      "text/plain": [
       "Text(0.5, 1.0, 'Confusion Matrix')"
      ]
     },
     "execution_count": 132,
     "metadata": {},
     "output_type": "execute_result"
    },
    {
     "data": {
      "image/png": "[encoded data removed]",
      "text/plain": [
       "<Figure size 640x480 with 2 Axes>"
      ]
     },
     "metadata": {},
     "output_type": "display_data"
    }
   ],
   "source": [
    "from sklearn import metrics\n",
    "disp = metrics.ConfusionMatrixDisplay.from_predictions(y_val, y_pred, labels = (1,0), normalize = None, cmap='Blues')\n",
    "disp.ax_.grid(False)\n",
    "disp.ax_.set_title('Confusion Matrix')"
   ]
  },
  {
   "attachments": {},
   "cell_type": "markdown",
   "metadata": {},
   "source": [
    "### Random forest"
   ]
  },
  {
   "cell_type": "code",
   "execution_count": 140,
   "metadata": {},
   "outputs": [
    {
     "name": "stdout",
     "output_type": "stream",
     "text": [
      "4363\n",
      "ROC Accuracy: 0.709464086690313\n"
     ]
    },
    {
     "data": {
      "text/plain": [
       "['model.pkl']"
      ]
     },
     "execution_count": 140,
     "metadata": {},
     "output_type": "execute_result"
    }
   ],
   "source": [
    "from sklearn import ensemble\n",
    "from sklearn.model_selection import train_test_split\n",
    "from sklearn.metrics import accuracy_score\n",
    "from sklearn.metrics import roc_auc_score\n",
    "\n",
    "x_train, x_val, y_train, y_val = train_test_split(original_train_x, original_train_y, test_size=0.2)\n",
    "\n",
    "clf = ensemble.RandomForestClassifier(n_estimators=500, max_depth=10, bootstrap=True, n_jobs=-1, class_weight='balanced')\n",
    "clf.fit(x_train, y_train)\n",
    "\n",
    "y_pred = clf.predict(x_val)\n",
    "print(sum(y_pred))\n",
    "\n",
    "ruc_score = roc_auc_score(y_val, y_pred)\n",
    "print(\"ROC Accuracy:\", roc_auc_score(y_val, y_pred))\n",
    "\n",
    "joblib.dump(clf, 'model.pkl')\n"
   ]
  },
  {
   "cell_type": "code",
   "execution_count": 142,
   "metadata": {},
   "outputs": [
    {
     "data": {
      "text/plain": [
       "Text(0.5, 1.0, 'Confusion Matrix')"
      ]
     },
     "execution_count": 142,
     "metadata": {},
     "output_type": "execute_result"
    },
    {
     "data": {
      "image/png": "[encoded data removed]",
      "text/plain": [
       "<Figure size 640x480 with 2 Axes>"
      ]
     },
     "metadata": {},
     "output_type": "display_data"
    }
   ],
   "source": [
    "from sklearn import metrics\n",
    "disp = metrics.ConfusionMatrixDisplay.from_predictions(y_val, y_pred, labels = (1,0), normalize = None, cmap='Blues')\n",
    "disp.ax_.grid(False)\n",
    "disp.ax_.set_title('Confusion Matrix')"
   ]
  },
  {
   "attachments": {},
   "cell_type": "markdown",
   "metadata": {},
   "source": [
    "### SVC"
   ]
  },
  {
   "cell_type": "code",
   "execution_count": null,
   "metadata": {},
   "outputs": [],
   "source": [
    "from sklearn import svm\n",
    "from sklearn.svm import SVC\n",
    "from sklearn.model_selection import KFold, StratifiedKFold\n",
    "from sklearn.metrics import accuracy_score\n",
    "from sklearn.model_selection import RandomizedSearchCV\n",
    "from sklearn.pipeline import Pipeline\n",
    "from sklearn.feature_extraction.text import TfidfVectorizer\n",
    "\n",
    "\n",
    "para = {'C': [100, 10, 1, 0.1, 0.01, 0.001, 0.0001], 'gamma': [1, 0.1, 0.01, 0.001, 0.0001], 'kernel': ['rbf']}\n",
    "\n",
    "svc = SVC()\n",
    "\n",
    "RS = RandomizedSearchCV(svc, para, cv=5, n_jobs=-1, verbose=3, scoring='roc_auc')\n",
    "\n",
    "RS.fit(x_train, y_train)\n",
    "\n",
    "print(RS.best_estimator_, RS.best_score_)\n"
   ]
  },
  {
   "cell_type": "code",
   "execution_count": null,
   "metadata": {},
   "outputs": [],
   "source": [
    "y_pred = RS.predict(x_val)\n"
   ]
  },
  {
   "cell_type": "code",
   "execution_count": null,
   "metadata": {},
   "outputs": [],
   "source": [
    "from sklearn import metrics\n",
    "disp = metrics.ConfusionMatrixDisplay.from_predictions(y_val, y_pred, labels = (1,0), normalize = None, cmap='Blues')\n",
    "disp.ax_.grid(False)\n",
    "disp.ax_.set_title('Confusion Matrix')"
   ]
  },
  {
   "attachments": {},
   "cell_type": "markdown",
   "metadata": {},
   "source": [
    "### NN(?)"
   ]
  },
  {
   "cell_type": "code",
   "execution_count": null,
   "metadata": {},
   "outputs": [],
   "source": [
    "import torch \n",
    "import torch.nn as nn\n",
    "import torch.nn.functional as F\n",
    "import torch.optim as optim\n",
    "import torchvision\n",
    "\n",
    "\n",
    "device = \"cuda\" if torch.cuda.is_available() else \"cpu\"\n",
    "print(device)\n",
    "\n",
    "\n",
    "model = nn.Sequential(\n",
    "    nn.Linear(10, 64),\n",
    "    nn.ReLU(),\n",
    "    nn.Linear(64, 64),\n",
    "    nn.ReLU(),\n",
    "    nn.Linear(64, 1),\n",
    "    nn.Sigmoid()\n",
    ")\n",
    "\n",
    "model.to(device)\n",
    "\n",
    "for epoch in range(100):\n",
    "    model.train()\n",
    "    optimizer = optim.Adam(model.parameters(), lr=0.001)\n",
    "    optimizer.zero_grad()\n",
    "    x = torch.from_numpy(x_train).float().to(device)\n",
    "    y = torch.from_numpy(y_train).float().to(device)\n",
    "    y_pred = model(x)\n",
    "    loss = F.binary_cross_entropy(y_pred, y)\n",
    "    loss.backward()\n",
    "    optimizer.step()\n",
    "    print(f'Epoch: {epoch}, Loss: {loss.item()}')\n",
    "\n",
    "    "
   ]
  }
 ],
 "metadata": {
  "kernelspec": {
   "display_name": "Python 3",
   "language": "python",
   "name": "python3"
  },
  "language_info": {
   "codemirror_mode": {
    "name": "ipython",
    "version": 3
   },
   "file_extension": ".py",
   "mimetype": "text/x-python",
   "name": "python",
   "nbconvert_exporter": "python",
   "pygments_lexer": "ipython3",
   "version": "3.8.10 (tags/v3.8.10:3d8993a, May  3 2021, 11:48:03) [MSC v.1928 64 bit (AMD64)]"
  },
  "orig_nbformat": 4,
  "vscode": {
   "interpreter": {
    "hash": "f544ce1a915a9875fad91c894e2c0bcad4b7a79945aa6027ef3ad27810072aa6"
   }
  }
 },
 "nbformat": 4,
 "nbformat_minor": 2
}
