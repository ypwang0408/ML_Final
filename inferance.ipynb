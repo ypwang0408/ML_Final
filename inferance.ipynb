{
 "cells": [
  {
   "cell_type": "code",
   "execution_count": 1,
   "metadata": {},
   "outputs": [],
   "source": [
    "import csv\n",
    "import numpy as np\n",
    "import pandas as pd\n",
    "import os\n",
    "import random\n",
    "import joblib\n",
    "import pickle\n"
   ]
  },
  {
   "cell_type": "code",
   "execution_count": 2,
   "metadata": {},
   "outputs": [
    {
     "name": "stdout",
     "output_type": "stream",
     "text": [
      "Done\n"
     ]
    }
   ],
   "source": [
    "MODEL_PATH = './model_lg.pkl'\n",
    "TEST_X_PATH = './test_x.pkl'\n",
    "SAMPLE_SUB_PATH = './kaggle/input/tabular-playground-series-aug-2022/sample_submission.csv'\n",
    "\n",
    "# Load model\n",
    "model = joblib.load(MODEL_PATH)\n",
    "\n",
    "# Load test data\n",
    "test_x = pickle.load(open(TEST_X_PATH, 'rb'))\n",
    "\n",
    "y_pred = model.predict_proba(test_x)[:, 1]\n",
    "\n",
    "pred_df = pd.DataFrame(y_pred)\n",
    "pred_df = pred_df.rank()\n",
    "\n",
    "sample_sub = pd.read_csv(SAMPLE_SUB_PATH)\n",
    "sample_sub['failure'] = pred_df\n",
    "sample_sub.to_csv('109550008.csv', index=False)\n",
    "\n",
    "print('Done')\n"
   ]
  }
 ],
 "metadata": {
  "kernelspec": {
   "display_name": "Python 3",
   "language": "python",
   "name": "python3"
  },
  "language_info": {
   "codemirror_mode": {
    "name": "ipython",
    "version": 3
   },
   "file_extension": ".py",
   "mimetype": "text/x-python",
   "name": "python",
   "nbconvert_exporter": "python",
   "pygments_lexer": "ipython3",
   "version": "3.8.10"
  },
  "orig_nbformat": 4,
  "vscode": {
   "interpreter": {
    "hash": "f544ce1a915a9875fad91c894e2c0bcad4b7a79945aa6027ef3ad27810072aa6"
   }
  }
 },
 "nbformat": 4,
 "nbformat_minor": 2
}
